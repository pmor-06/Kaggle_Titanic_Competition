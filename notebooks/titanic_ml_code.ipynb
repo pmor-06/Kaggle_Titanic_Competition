{
 "cells": [
  {
   "cell_type": "markdown",
   "id": "1c11b9b5",
   "metadata": {},
   "source": []
  }
 ],
 "metadata": {
  "language_info": {
   "name": "python"
  }
 },
 "nbformat": 4,
 "nbformat_minor": 5
}
